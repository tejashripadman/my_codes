{
 "cells": [
  {
   "cell_type": "markdown",
   "id": "11d1b01f",
   "metadata": {},
   "source": [
    "Python program to capitalize the first and last character of each word in a string"
   ]
  },
  {
   "cell_type": "code",
   "execution_count": 1,
   "id": "8b6f550b",
   "metadata": {},
   "outputs": [],
   "source": [
    "string = 'hello world'"
   ]
  },
  {
   "cell_type": "code",
   "execution_count": 2,
   "id": "acfa3f3c",
   "metadata": {},
   "outputs": [
    {
     "name": "stdout",
     "output_type": "stream",
     "text": [
      "HellO WorlD\n"
     ]
    }
   ],
   "source": [
    "if len(string)<1:\n",
    "    print(string)\n",
    "elif len(string) == 1 or len(string) == 2:\n",
    "    print(string.upper())\n",
    "elif len(string) >2:\n",
    "    l = string.split()\n",
    "    l1 = []\n",
    "    for i in l:\n",
    "        if len(i) == 1 or len(i) == 2:\n",
    "            l1.append(i.upper())\n",
    "        else:\n",
    "            l1.append(i[0].upper()+i[1:-1].lower()+i[-1].upper())\n",
    "    string = \" \".join(l1)\n",
    "    print(string)"
   ]
  },
  {
   "cell_type": "code",
   "execution_count": null,
   "id": "3b2b10f9",
   "metadata": {},
   "outputs": [],
   "source": []
  }
 ],
 "metadata": {
  "kernelspec": {
   "display_name": "Python 3 (ipykernel)",
   "language": "python",
   "name": "python3"
  },
  "language_info": {
   "codemirror_mode": {
    "name": "ipython",
    "version": 3
   },
   "file_extension": ".py",
   "mimetype": "text/x-python",
   "name": "python",
   "nbconvert_exporter": "python",
   "pygments_lexer": "ipython3",
   "version": "3.11.3"
  }
 },
 "nbformat": 4,
 "nbformat_minor": 5
}
