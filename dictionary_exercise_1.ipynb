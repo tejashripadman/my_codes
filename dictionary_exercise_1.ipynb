{
 "cells": [
  {
   "cell_type": "markdown",
   "id": "11d1b01f",
   "metadata": {},
   "source": [
    "Python | sort dictionary wrt to keys or values"
   ]
  },
  {
   "cell_type": "code",
   "execution_count": 1,
   "id": "187deae1",
   "metadata": {},
   "outputs": [],
   "source": [
    "myDict = {'ravi': 10, 'rajnish': 9,\n",
    "        'sanjeev': 15, 'yash': 2, 'suraj': 32}"
   ]
  },
  {
   "cell_type": "code",
   "execution_count": 2,
   "id": "a101a68a",
   "metadata": {},
   "outputs": [],
   "source": [
    "l = list(myDict.keys())\n",
    "l.sort()\n",
    "d = {i:myDict[i] for i in l}"
   ]
  },
  {
   "cell_type": "code",
   "execution_count": 3,
   "id": "34afc829",
   "metadata": {},
   "outputs": [
    {
     "data": {
      "text/plain": [
       "{'rajnish': 9, 'ravi': 10, 'sanjeev': 15, 'suraj': 32, 'yash': 2}"
      ]
     },
     "execution_count": 3,
     "metadata": {},
     "output_type": "execute_result"
    }
   ],
   "source": [
    "d"
   ]
  },
  {
   "cell_type": "code",
   "execution_count": null,
   "id": "27290719",
   "metadata": {},
   "outputs": [],
   "source": []
  }
 ],
 "metadata": {
  "kernelspec": {
   "display_name": "Python 3 (ipykernel)",
   "language": "python",
   "name": "python3"
  },
  "language_info": {
   "codemirror_mode": {
    "name": "ipython",
    "version": 3
   },
   "file_extension": ".py",
   "mimetype": "text/x-python",
   "name": "python",
   "nbconvert_exporter": "python",
   "pygments_lexer": "ipython3",
   "version": "3.11.3"
  }
 },
 "nbformat": 4,
 "nbformat_minor": 5
}
