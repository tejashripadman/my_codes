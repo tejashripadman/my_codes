{
 "cells": [
  {
   "cell_type": "markdown",
   "id": "11d1b01f",
   "metadata": {},
   "source": [
    "Python – Remove Tuples of Length K"
   ]
  },
  {
   "cell_type": "code",
   "execution_count": 1,
   "id": "a6ff4f96",
   "metadata": {},
   "outputs": [],
   "source": [
    "test_list = [(4, 5), (4, ), (8, 6, 7), (1, ), (3, 4, 6, 7)]\n",
    "K = 2 "
   ]
  },
  {
   "cell_type": "code",
   "execution_count": 3,
   "id": "6c895576",
   "metadata": {},
   "outputs": [
    {
     "data": {
      "text/plain": [
       "[(4,), (8, 6, 7), (1,), (3, 4, 6, 7)]"
      ]
     },
     "execution_count": 3,
     "metadata": {},
     "output_type": "execute_result"
    }
   ],
   "source": [
    "for i in test_list[:]:\n",
    "    if len(i) == K:\n",
    "        test_list.remove(i)\n",
    "test_list"
   ]
  },
  {
   "cell_type": "code",
   "execution_count": 4,
   "id": "4869a131",
   "metadata": {},
   "outputs": [
    {
     "data": {
      "text/plain": [
       "[(4,), (8, 6, 7), (1,), (3, 4, 6, 7)]"
      ]
     },
     "execution_count": 4,
     "metadata": {},
     "output_type": "execute_result"
    }
   ],
   "source": [
    "[i for i in test_list if len(i) != K]"
   ]
  },
  {
   "cell_type": "code",
   "execution_count": null,
   "id": "f3111490",
   "metadata": {},
   "outputs": [],
   "source": []
  }
 ],
 "metadata": {
  "kernelspec": {
   "display_name": "Python 3 (ipykernel)",
   "language": "python",
   "name": "python3"
  },
  "language_info": {
   "codemirror_mode": {
    "name": "ipython",
    "version": 3
   },
   "file_extension": ".py",
   "mimetype": "text/x-python",
   "name": "python",
   "nbconvert_exporter": "python",
   "pygments_lexer": "ipython3",
   "version": "3.11.3"
  }
 },
 "nbformat": 4,
 "nbformat_minor": 5
}
