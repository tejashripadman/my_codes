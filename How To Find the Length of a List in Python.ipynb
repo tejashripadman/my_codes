{
 "cells": [
  {
   "cell_type": "markdown",
   "id": "11d1b01f",
   "metadata": {},
   "source": [
    "How To Find the Length of a List in Python"
   ]
  },
  {
   "cell_type": "code",
   "execution_count": 4,
   "id": "c7960fd5",
   "metadata": {},
   "outputs": [],
   "source": [
    "lst = [10,20,30,40]"
   ]
  },
  {
   "cell_type": "code",
   "execution_count": 5,
   "id": "f9eaf997",
   "metadata": {},
   "outputs": [
    {
     "data": {
      "text/plain": [
       "4"
      ]
     },
     "execution_count": 5,
     "metadata": {},
     "output_type": "execute_result"
    }
   ],
   "source": [
    "def length(lst):\n",
    "    count = 0\n",
    "    for i in lst:\n",
    "        count += 1\n",
    "    return count\n",
    "\n",
    "length(lst)"
   ]
  },
  {
   "cell_type": "code",
   "execution_count": 7,
   "id": "d4535ece",
   "metadata": {},
   "outputs": [
    {
     "data": {
      "text/plain": [
       "4"
      ]
     },
     "execution_count": 7,
     "metadata": {},
     "output_type": "execute_result"
    }
   ],
   "source": [
    "def length(lst):\n",
    "    count = 0\n",
    "    while count < len(lst):\n",
    "        count += 1\n",
    "    return count\n",
    "\n",
    "length(lst)"
   ]
  },
  {
   "cell_type": "code",
   "execution_count": 8,
   "id": "ff90a6be",
   "metadata": {},
   "outputs": [
    {
     "data": {
      "text/plain": [
       "4"
      ]
     },
     "execution_count": 8,
     "metadata": {},
     "output_type": "execute_result"
    }
   ],
   "source": [
    "def length(lst):\n",
    "    return len(lst)\n",
    "\n",
    "length(lst)"
   ]
  },
  {
   "cell_type": "code",
   "execution_count": 9,
   "id": "5dd57cff",
   "metadata": {},
   "outputs": [
    {
     "data": {
      "text/plain": [
       "4"
      ]
     },
     "execution_count": 9,
     "metadata": {},
     "output_type": "execute_result"
    }
   ],
   "source": [
    "def length(lst):\n",
    "    return sum(1 for i in lst)\n",
    "\n",
    "length(lst)"
   ]
  },
  {
   "cell_type": "code",
   "execution_count": null,
   "id": "5da9f51c",
   "metadata": {},
   "outputs": [],
   "source": []
  }
 ],
 "metadata": {
  "kernelspec": {
   "display_name": "Python 3 (ipykernel)",
   "language": "python",
   "name": "python3"
  },
  "language_info": {
   "codemirror_mode": {
    "name": "ipython",
    "version": 3
   },
   "file_extension": ".py",
   "mimetype": "text/x-python",
   "name": "python",
   "nbconvert_exporter": "python",
   "pygments_lexer": "ipython3",
   "version": "3.11.3"
  }
 },
 "nbformat": 4,
 "nbformat_minor": 5
}
