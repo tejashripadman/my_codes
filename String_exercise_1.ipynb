{
 "cells": [
  {
   "cell_type": "markdown",
   "id": "11d1b01f",
   "metadata": {},
   "source": [
    "Python program to check whether the string is Symmetrical or Palindrome"
   ]
  },
  {
   "cell_type": "code",
   "execution_count": 1,
   "id": "940f2e05",
   "metadata": {},
   "outputs": [
    {
     "data": {
      "text/plain": [
       "True"
      ]
     },
     "execution_count": 1,
     "metadata": {},
     "output_type": "execute_result"
    }
   ],
   "source": [
    "string = 'amaama'\n",
    "\n",
    "def palindrome(string):\n",
    "    if string == string[::-1]:\n",
    "        return True\n",
    "    else:\n",
    "        return False\n",
    "    \n",
    "palindrome(string)"
   ]
  },
  {
   "cell_type": "code",
   "execution_count": 2,
   "id": "1a54c998",
   "metadata": {},
   "outputs": [
    {
     "data": {
      "text/plain": [
       "True"
      ]
     },
     "execution_count": 2,
     "metadata": {},
     "output_type": "execute_result"
    }
   ],
   "source": [
    "def palindrome(string):\n",
    "    return True if string == string[::-1] else False\n",
    "    \n",
    "palindrome(string)"
   ]
  },
  {
   "cell_type": "code",
   "execution_count": null,
   "id": "eaf4a533",
   "metadata": {},
   "outputs": [],
   "source": [
    "def palindrome(string):\n",
    "    s = ''\n",
    "    for i in string:\n",
    "        s = i + s\n",
    "    if string == s:\n",
    "        return True\n",
    "    else:\n",
    "        return False\n",
    "    \n",
    "palindrome(string)"
   ]
  },
  {
   "cell_type": "code",
   "execution_count": null,
   "id": "d939a3d9",
   "metadata": {},
   "outputs": [],
   "source": [
    "def palindrome(string):\n",
    "    s = ''\n",
    "    for i in string:\n",
    "        s = i + s\n",
    "    return True if string == s else False\n",
    "palindrome(string)"
   ]
  },
  {
   "cell_type": "code",
   "execution_count": null,
   "id": "a2025530",
   "metadata": {},
   "outputs": [],
   "source": [
    "def palindrome(string):\n",
    "    return True if string == ''.join(reversed(string)) else False\n",
    "    \n",
    "palindrome(string)"
   ]
  },
  {
   "cell_type": "code",
   "execution_count": null,
   "id": "187deae1",
   "metadata": {},
   "outputs": [],
   "source": []
  }
 ],
 "metadata": {
  "kernelspec": {
   "display_name": "Python 3 (ipykernel)",
   "language": "python",
   "name": "python3"
  },
  "language_info": {
   "codemirror_mode": {
    "name": "ipython",
    "version": 3
   },
   "file_extension": ".py",
   "mimetype": "text/x-python",
   "name": "python",
   "nbconvert_exporter": "python",
   "pygments_lexer": "ipython3",
   "version": "3.11.3"
  }
 },
 "nbformat": 4,
 "nbformat_minor": 5
}
