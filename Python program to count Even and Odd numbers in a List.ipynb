{
 "cells": [
  {
   "cell_type": "markdown",
   "id": "11d1b01f",
   "metadata": {},
   "source": [
    "Python program to count Even and Odd numbers in a List"
   ]
  },
  {
   "cell_type": "code",
   "execution_count": 1,
   "id": "e221f736",
   "metadata": {},
   "outputs": [
    {
     "data": {
      "text/plain": [
       "(2, 3)"
      ]
     },
     "execution_count": 1,
     "metadata": {},
     "output_type": "execute_result"
    }
   ],
   "source": [
    "l = [2, 7, 5, 64, 14]\n",
    "\n",
    "count_even = 0\n",
    "count_odd = 0\n",
    "\n",
    "for i in l:\n",
    "    if i % 2 == 1:\n",
    "        count_odd += 1\n",
    "    elif i % 2 == 0:\n",
    "        count_even += 1\n",
    "count_odd,count_even"
   ]
  },
  {
   "cell_type": "code",
   "execution_count": 2,
   "id": "f713477a",
   "metadata": {},
   "outputs": [
    {
     "data": {
      "text/plain": [
       "2"
      ]
     },
     "execution_count": 2,
     "metadata": {},
     "output_type": "execute_result"
    }
   ],
   "source": [
    "sum(1 for i in l if i%2 == 1)"
   ]
  },
  {
   "cell_type": "code",
   "execution_count": 3,
   "id": "0a4e570f",
   "metadata": {},
   "outputs": [
    {
     "data": {
      "text/plain": [
       "3"
      ]
     },
     "execution_count": 3,
     "metadata": {},
     "output_type": "execute_result"
    }
   ],
   "source": [
    "sum(1 for i in l if i % 2 == 0)"
   ]
  },
  {
   "cell_type": "code",
   "execution_count": 4,
   "id": "eaa68cbb",
   "metadata": {},
   "outputs": [
    {
     "data": {
      "text/plain": [
       "2"
      ]
     },
     "execution_count": 4,
     "metadata": {},
     "output_type": "execute_result"
    }
   ],
   "source": [
    "len([i for i in l if i%2 == 1])"
   ]
  },
  {
   "cell_type": "code",
   "execution_count": 5,
   "id": "b594d773",
   "metadata": {},
   "outputs": [
    {
     "data": {
      "text/plain": [
       "3"
      ]
     },
     "execution_count": 5,
     "metadata": {},
     "output_type": "execute_result"
    }
   ],
   "source": [
    "len([i for i in l if i % 2 ==0])"
   ]
  },
  {
   "cell_type": "code",
   "execution_count": null,
   "id": "fbdbb847",
   "metadata": {},
   "outputs": [],
   "source": []
  }
 ],
 "metadata": {
  "kernelspec": {
   "display_name": "Python 3 (ipykernel)",
   "language": "python",
   "name": "python3"
  },
  "language_info": {
   "codemirror_mode": {
    "name": "ipython",
    "version": 3
   },
   "file_extension": ".py",
   "mimetype": "text/x-python",
   "name": "python",
   "nbconvert_exporter": "python",
   "pygments_lexer": "ipython3",
   "version": "3.11.3"
  }
 },
 "nbformat": 4,
 "nbformat_minor": 5
}
