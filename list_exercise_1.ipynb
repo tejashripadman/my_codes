{
 "cells": [
  {
   "cell_type": "markdown",
   "id": "11d1b01f",
   "metadata": {},
   "source": [
    "Python | Count occurrences of an element in a list"
   ]
  },
  {
   "cell_type": "code",
   "execution_count": 1,
   "id": "187deae1",
   "metadata": {},
   "outputs": [],
   "source": [
    "lst = [15, 6, 7, 10, 12, 20, 10, 28, 10] \n",
    "x = 10"
   ]
  },
  {
   "cell_type": "code",
   "execution_count": 2,
   "id": "81acd9dc",
   "metadata": {},
   "outputs": [
    {
     "name": "stdout",
     "output_type": "stream",
     "text": [
      "3\n"
     ]
    }
   ],
   "source": [
    "for element in lst:\n",
    "    if element == x:\n",
    "        print(lst.count(x))\n",
    "        break"
   ]
  },
  {
   "cell_type": "code",
   "execution_count": null,
   "id": "ef378f5f",
   "metadata": {},
   "outputs": [],
   "source": []
  }
 ],
 "metadata": {
  "kernelspec": {
   "display_name": "Python 3 (ipykernel)",
   "language": "python",
   "name": "python3"
  },
  "language_info": {
   "codemirror_mode": {
    "name": "ipython",
    "version": 3
   },
   "file_extension": ".py",
   "mimetype": "text/x-python",
   "name": "python",
   "nbconvert_exporter": "python",
   "pygments_lexer": "ipython3",
   "version": "3.11.3"
  }
 },
 "nbformat": 4,
 "nbformat_minor": 5
}
