{
 "cells": [
  {
   "cell_type": "markdown",
   "id": "11d1b01f",
   "metadata": {},
   "source": [
    "Python program to swap two elements in a list"
   ]
  },
  {
   "cell_type": "code",
   "execution_count": 1,
   "id": "c7960fd5",
   "metadata": {},
   "outputs": [],
   "source": [
    "l = [23, 65, 19, 90]\n",
    "pos1 = 1\n",
    "pos2 = 3"
   ]
  },
  {
   "cell_type": "code",
   "execution_count": 2,
   "id": "f9eaf997",
   "metadata": {},
   "outputs": [
    {
     "data": {
      "text/plain": [
       "[23, 90, 19, 65]"
      ]
     },
     "execution_count": 2,
     "metadata": {},
     "output_type": "execute_result"
    }
   ],
   "source": [
    "def swap_ele(l,pos1,pos2):\n",
    "    l[pos1] , l[pos2] = l[pos2] , l[pos1]\n",
    "    return l\n",
    "\n",
    "swap_ele(l,pos1,pos2)"
   ]
  },
  {
   "cell_type": "code",
   "execution_count": 3,
   "id": "d4535ece",
   "metadata": {},
   "outputs": [
    {
     "data": {
      "text/plain": [
       "[23, 65, 19, 90]"
      ]
     },
     "execution_count": 3,
     "metadata": {},
     "output_type": "execute_result"
    }
   ],
   "source": [
    "def swap_ele(l,pos1,pos2):\n",
    "    temp = l[pos1]\n",
    "    l[pos1] = l[pos2]\n",
    "    l[pos2] = temp\n",
    "    return l\n",
    "swap_ele(l,pos1,pos2)"
   ]
  },
  {
   "cell_type": "code",
   "execution_count": null,
   "id": "38bcb5c1",
   "metadata": {},
   "outputs": [],
   "source": []
  }
 ],
 "metadata": {
  "kernelspec": {
   "display_name": "Python 3 (ipykernel)",
   "language": "python",
   "name": "python3"
  },
  "language_info": {
   "codemirror_mode": {
    "name": "ipython",
    "version": 3
   },
   "file_extension": ".py",
   "mimetype": "text/x-python",
   "name": "python",
   "nbconvert_exporter": "python",
   "pygments_lexer": "ipython3",
   "version": "3.11.3"
  }
 },
 "nbformat": 4,
 "nbformat_minor": 5
}
