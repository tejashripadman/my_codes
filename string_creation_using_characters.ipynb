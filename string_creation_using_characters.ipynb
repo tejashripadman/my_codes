{
 "cells": [
  {
   "cell_type": "code",
   "execution_count": 2,
   "id": "4ea07803",
   "metadata": {},
   "outputs": [
    {
     "data": {
      "text/plain": [
       "'Jia'"
      ]
     },
     "execution_count": 2,
     "metadata": {},
     "output_type": "execute_result"
    }
   ],
   "source": [
    "str1 = \"JhonDipPeta\"\n",
    "\n",
    "def string_creator(str1):\n",
    "    if len(str1)>3:\n",
    "        return str1[0]+str1[len(str1)//2]+str1[-1]\n",
    "    elif len(str1) == 3:\n",
    "        return str1\n",
    "    else:\n",
    "        return str1\n",
    "    \n",
    "string_creator(str1)"
   ]
  },
  {
   "cell_type": "code",
   "execution_count": 3,
   "id": "4f88096b",
   "metadata": {},
   "outputs": [
    {
     "data": {
      "text/plain": [
       "'Dip'"
      ]
     },
     "execution_count": 3,
     "metadata": {},
     "output_type": "execute_result"
    }
   ],
   "source": [
    "def middle_string_creator(str1):\n",
    "    if len(str1)>3:\n",
    "        return str1[(len(str1)//2)-1]+str1[len(str1)//2]+str1[(len(str1)//2)+1]\n",
    "    elif len(str1) == 3:\n",
    "        return str1\n",
    "    else:\n",
    "        return str1\n",
    "    \n",
    "middle_string_creator(str1)"
   ]
  },
  {
   "cell_type": "markdown",
   "id": "ac8f68e4",
   "metadata": {},
   "source": [
    "Exercise 2: Append new string in the middle of a given string"
   ]
  },
  {
   "cell_type": "code",
   "execution_count": 7,
   "id": "3d5551c7",
   "metadata": {},
   "outputs": [],
   "source": [
    "s1 = \"Ault\"\n",
    "s2 = \"Kelly\"\n",
    "\n",
    "def insert_middle_string(s1,s2):\n",
    "    if len(s1) <= 1:\n",
    "        return s1+s2\n",
    "    elif len(s1) == 2:\n",
    "        return s1[0]+s2+s1[-1]\n",
    "    else:\n",
    "        mid = (len(s1)//2) - 1\n",
    "        return s1[:mid+1]+s2+s1[(mid+1):]"
   ]
  },
  {
   "cell_type": "code",
   "execution_count": 8,
   "id": "7f0c442a",
   "metadata": {},
   "outputs": [
    {
     "data": {
      "text/plain": [
       "'AuKellylt'"
      ]
     },
     "execution_count": 8,
     "metadata": {},
     "output_type": "execute_result"
    }
   ],
   "source": [
    "insert_middle_string(s1,s2)"
   ]
  },
  {
   "cell_type": "code",
   "execution_count": null,
   "id": "f74143ec",
   "metadata": {},
   "outputs": [],
   "source": []
  }
 ],
 "metadata": {
  "kernelspec": {
   "display_name": "Python 3 (ipykernel)",
   "language": "python",
   "name": "python3"
  },
  "language_info": {
   "codemirror_mode": {
    "name": "ipython",
    "version": 3
   },
   "file_extension": ".py",
   "mimetype": "text/x-python",
   "name": "python",
   "nbconvert_exporter": "python",
   "pygments_lexer": "ipython3",
   "version": "3.11.3"
  }
 },
 "nbformat": 4,
 "nbformat_minor": 5
}
