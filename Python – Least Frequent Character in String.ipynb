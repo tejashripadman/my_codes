{
 "cells": [
  {
   "cell_type": "markdown",
   "id": "11d1b01f",
   "metadata": {},
   "source": [
    "Python – Least Frequent Character in String"
   ]
  },
  {
   "cell_type": "code",
   "execution_count": 8,
   "id": "f3b4ad49",
   "metadata": {},
   "outputs": [],
   "source": [
    "test_str = \"GeeksforGeeks\""
   ]
  },
  {
   "cell_type": "code",
   "execution_count": 9,
   "id": "6e4af465",
   "metadata": {},
   "outputs": [
    {
     "name": "stdout",
     "output_type": "stream",
     "text": [
      "f\n",
      "o\n",
      "r\n"
     ]
    }
   ],
   "source": [
    "freq = [test_str.count(i) for i in test_str]\n",
    "for i in test_str:\n",
    "    if test_str.count(i) == min(freq):\n",
    "        print(i)"
   ]
  },
  {
   "cell_type": "code",
   "execution_count": null,
   "id": "a6ff4f96",
   "metadata": {},
   "outputs": [],
   "source": []
  }
 ],
 "metadata": {
  "kernelspec": {
   "display_name": "Python 3 (ipykernel)",
   "language": "python",
   "name": "python3"
  },
  "language_info": {
   "codemirror_mode": {
    "name": "ipython",
    "version": 3
   },
   "file_extension": ".py",
   "mimetype": "text/x-python",
   "name": "python",
   "nbconvert_exporter": "python",
   "pygments_lexer": "ipython3",
   "version": "3.11.3"
  }
 },
 "nbformat": 4,
 "nbformat_minor": 5
}
