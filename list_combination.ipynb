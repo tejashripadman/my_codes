{
 "cells": [
  {
   "cell_type": "code",
   "execution_count": 1,
   "id": "0dd51c96",
   "metadata": {},
   "outputs": [],
   "source": [
    "numbers = [1, 2, 3, 4, 5, 6, 7]"
   ]
  },
  {
   "cell_type": "markdown",
   "id": "aea301dd",
   "metadata": {},
   "source": [
    "methods to square the numbers in list"
   ]
  },
  {
   "cell_type": "code",
   "execution_count": 2,
   "id": "ef4e1a63",
   "metadata": {},
   "outputs": [],
   "source": [
    "def square(num):\n",
    "    return num * num\n",
    "def list_square(numbers):\n",
    "    return list(map(square,numbers))"
   ]
  },
  {
   "cell_type": "code",
   "execution_count": 10,
   "id": "07ae367d",
   "metadata": {},
   "outputs": [
    {
     "data": {
      "text/plain": [
       "[1, 4, 9, 16, 25, 36, 49]"
      ]
     },
     "execution_count": 10,
     "metadata": {},
     "output_type": "execute_result"
    }
   ],
   "source": [
    "list_square(numbers)"
   ]
  },
  {
   "cell_type": "code",
   "execution_count": 5,
   "id": "e362c2a1",
   "metadata": {},
   "outputs": [],
   "source": [
    "def list_squares(numbers):\n",
    "    return [num*num for num in numbers]"
   ]
  },
  {
   "cell_type": "code",
   "execution_count": 7,
   "id": "6254b1af",
   "metadata": {},
   "outputs": [],
   "source": [
    "def list_squares(numbers):\n",
    "    l = []\n",
    "    for i in numbers:\n",
    "        l.append(i*i)\n",
    "    return l"
   ]
  },
  {
   "cell_type": "code",
   "execution_count": 9,
   "id": "1bf587b5",
   "metadata": {},
   "outputs": [],
   "source": [
    "def list_squares(numbers):\n",
    "    l = []\n",
    "    i = 0\n",
    "    while i < len(numbers):\n",
    "        l.append(numbers[i]**2)\n",
    "        i += 1\n",
    "    return l"
   ]
  },
  {
   "cell_type": "code",
   "execution_count": null,
   "id": "3c3da563",
   "metadata": {},
   "outputs": [],
   "source": []
  }
 ],
 "metadata": {
  "kernelspec": {
   "display_name": "Python 3 (ipykernel)",
   "language": "python",
   "name": "python3"
  },
  "language_info": {
   "codemirror_mode": {
    "name": "ipython",
    "version": 3
   },
   "file_extension": ".py",
   "mimetype": "text/x-python",
   "name": "python",
   "nbconvert_exporter": "python",
   "pygments_lexer": "ipython3",
   "version": "3.11.3"
  }
 },
 "nbformat": 4,
 "nbformat_minor": 5
}
