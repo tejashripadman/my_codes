{
 "cells": [
  {
   "cell_type": "markdown",
   "id": "11d1b01f",
   "metadata": {},
   "source": [
    "Reverse the words in the given string program "
   ]
  },
  {
   "cell_type": "code",
   "execution_count": 3,
   "id": "187deae1",
   "metadata": {},
   "outputs": [],
   "source": [
    "string = \"geeks quiz practice code\""
   ]
  },
  {
   "cell_type": "code",
   "execution_count": 4,
   "id": "893ca912",
   "metadata": {},
   "outputs": [
    {
     "data": {
      "text/plain": [
       "'code practice quiz geeks'"
      ]
     },
     "execution_count": 4,
     "metadata": {},
     "output_type": "execute_result"
    }
   ],
   "source": [
    "def reversed_string(string):\n",
    "    l = string.split()\n",
    "    return ' '.join(l[::-1])\n",
    "reversed_string(string)"
   ]
  },
  {
   "cell_type": "code",
   "execution_count": null,
   "id": "107518fa",
   "metadata": {},
   "outputs": [],
   "source": []
  },
  {
   "cell_type": "code",
   "execution_count": null,
   "id": "3b007051",
   "metadata": {},
   "outputs": [],
   "source": []
  }
 ],
 "metadata": {
  "kernelspec": {
   "display_name": "Python 3 (ipykernel)",
   "language": "python",
   "name": "python3"
  },
  "language_info": {
   "codemirror_mode": {
    "name": "ipython",
    "version": 3
   },
   "file_extension": ".py",
   "mimetype": "text/x-python",
   "name": "python",
   "nbconvert_exporter": "python",
   "pygments_lexer": "ipython3",
   "version": "3.11.3"
  }
 },
 "nbformat": 4,
 "nbformat_minor": 5
}
