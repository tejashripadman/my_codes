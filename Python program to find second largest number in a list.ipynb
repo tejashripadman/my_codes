{
 "cells": [
  {
   "cell_type": "markdown",
   "id": "11d1b01f",
   "metadata": {},
   "source": [
    "Python program to find second largest number in a list"
   ]
  },
  {
   "cell_type": "code",
   "execution_count": 12,
   "id": "a4a3819e",
   "metadata": {},
   "outputs": [],
   "source": [
    "list2 = [70, 11, 20, 4, 100]"
   ]
  },
  {
   "cell_type": "code",
   "execution_count": 2,
   "id": "006f7175",
   "metadata": {},
   "outputs": [
    {
     "name": "stdout",
     "output_type": "stream",
     "text": [
      "70\n"
     ]
    }
   ],
   "source": [
    "list2.sort()\n",
    "print(list2[-2])"
   ]
  },
  {
   "cell_type": "code",
   "execution_count": 4,
   "id": "554654f1",
   "metadata": {},
   "outputs": [
    {
     "name": "stdout",
     "output_type": "stream",
     "text": [
      "70\n"
     ]
    }
   ],
   "source": [
    "list2.reverse()\n",
    "print(list2[1])"
   ]
  },
  {
   "cell_type": "code",
   "execution_count": 5,
   "id": "f890a016",
   "metadata": {},
   "outputs": [
    {
     "name": "stdout",
     "output_type": "stream",
     "text": [
      "70\n"
     ]
    }
   ],
   "source": [
    "list2.sort(reverse=True)\n",
    "print(list2[1])"
   ]
  },
  {
   "cell_type": "code",
   "execution_count": null,
   "id": "459fa135",
   "metadata": {},
   "outputs": [],
   "source": []
  },
  {
   "cell_type": "code",
   "execution_count": null,
   "id": "d054b0d7",
   "metadata": {},
   "outputs": [],
   "source": []
  },
  {
   "cell_type": "code",
   "execution_count": null,
   "id": "b7c28cfe",
   "metadata": {},
   "outputs": [],
   "source": []
  }
 ],
 "metadata": {
  "kernelspec": {
   "display_name": "Python 3 (ipykernel)",
   "language": "python",
   "name": "python3"
  },
  "language_info": {
   "codemirror_mode": {
    "name": "ipython",
    "version": 3
   },
   "file_extension": ".py",
   "mimetype": "text/x-python",
   "name": "python",
   "nbconvert_exporter": "python",
   "pygments_lexer": "ipython3",
   "version": "3.11.3"
  }
 },
 "nbformat": 4,
 "nbformat_minor": 5
}
