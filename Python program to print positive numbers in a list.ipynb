{
 "cells": [
  {
   "cell_type": "markdown",
   "id": "11d1b01f",
   "metadata": {},
   "source": [
    "Python program to print positive numbers in a list"
   ]
  },
  {
   "cell_type": "code",
   "execution_count": 3,
   "id": "c17eb887",
   "metadata": {},
   "outputs": [
    {
     "name": "stdout",
     "output_type": "stream",
     "text": [
      "the positive number is 12\n",
      "the negative number is -7\n",
      "the positive number is 5\n",
      "the positive number is 64\n",
      "the negative number is -14\n"
     ]
    }
   ],
   "source": [
    "l = [12, -7, 5, 64, -14]\n",
    "\n",
    "for i in l:\n",
    "    if i > 0:\n",
    "        print(f'the positive number is {i}')\n",
    "    elif i < 0:\n",
    "        print(f'the negative number is {i}')\n",
    "    else:\n",
    "        print(f'{i} this is zero')"
   ]
  },
  {
   "cell_type": "code",
   "execution_count": 4,
   "id": "1fa95c0f",
   "metadata": {},
   "outputs": [
    {
     "name": "stdout",
     "output_type": "stream",
     "text": [
      "the positive number is 12\n",
      "the negative number is -7\n",
      "the positive number is 5\n",
      "the positive number is 64\n",
      "the negative number is -14\n"
     ]
    }
   ],
   "source": [
    "i = 0\n",
    "while i < len(l):\n",
    "    if l[i] > 0:\n",
    "        print(f'the positive number is {l[i]}')\n",
    "    elif l[i] < 0:\n",
    "        print(f'the negative number is {l[i]}')\n",
    "    else:\n",
    "        print(f'{l[i]} this is zero')\n",
    "    i += 1"
   ]
  },
  {
   "cell_type": "code",
   "execution_count": null,
   "id": "fc497a22",
   "metadata": {},
   "outputs": [],
   "source": []
  }
 ],
 "metadata": {
  "kernelspec": {
   "display_name": "Python 3 (ipykernel)",
   "language": "python",
   "name": "python3"
  },
  "language_info": {
   "codemirror_mode": {
    "name": "ipython",
    "version": 3
   },
   "file_extension": ".py",
   "mimetype": "text/x-python",
   "name": "python",
   "nbconvert_exporter": "python",
   "pygments_lexer": "ipython3",
   "version": "3.11.3"
  }
 },
 "nbformat": 4,
 "nbformat_minor": 5
}
