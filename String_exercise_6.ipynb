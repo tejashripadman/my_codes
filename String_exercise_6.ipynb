{
 "cells": [
  {
   "cell_type": "markdown",
   "id": "11d1b01f",
   "metadata": {},
   "source": [
    "Python – Uppercase Half String"
   ]
  },
  {
   "cell_type": "code",
   "execution_count": 8,
   "id": "187deae1",
   "metadata": {},
   "outputs": [],
   "source": [
    "string = \"geeksforgeek\""
   ]
  },
  {
   "cell_type": "code",
   "execution_count": 9,
   "id": "81acd9dc",
   "metadata": {},
   "outputs": [
    {
     "data": {
      "text/plain": [
       "'geeksfORGEEK'"
      ]
     },
     "execution_count": 9,
     "metadata": {},
     "output_type": "execute_result"
    }
   ],
   "source": [
    "string[:len(string)//2].lower()+string[len(string)//2:].upper()"
   ]
  }
 ],
 "metadata": {
  "kernelspec": {
   "display_name": "Python 3 (ipykernel)",
   "language": "python",
   "name": "python3"
  },
  "language_info": {
   "codemirror_mode": {
    "name": "ipython",
    "version": 3
   },
   "file_extension": ".py",
   "mimetype": "text/x-python",
   "name": "python",
   "nbconvert_exporter": "python",
   "pygments_lexer": "ipython3",
   "version": "3.11.3"
  }
 },
 "nbformat": 4,
 "nbformat_minor": 5
}
